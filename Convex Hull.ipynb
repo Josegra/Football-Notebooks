{
 "cells": [
  {
   "cell_type": "markdown",
   "metadata": {},
   "source": [
    "# Importing libraries"
   ]
  },
  {
   "cell_type": "code",
   "execution_count": 2,
   "metadata": {
    "ExecuteTime": {
     "end_time": "2021-09-23T22:16:40.713251Z",
     "start_time": "2021-09-23T22:16:38.748642Z"
    }
   },
   "outputs": [],
   "source": [
    "import time\n",
    "import pandas as pd\n",
    "import json\n",
    "from bs4 import BeautifulSoup as soup\n",
    "from tqdm import trange\n",
    "import re \n",
    "from collections import OrderedDict\n",
    "import datetime\n",
    "from selenium import webdriver\n",
    "from selenium.webdriver.common.keys import Keys\n",
    "from selenium.webdriver.common.action_chains import ActionChains\n",
    "from selenium.webdriver.chrome.options import Options\n",
    "from selenium.common.exceptions import NoSuchElementException\n",
    "pd.set_option('display.max_rows', 500)\n",
    "pd.set_option('display.max_columns', 500)\n",
    "from mplsoccer.pitch import Pitch\n",
    "from mplsoccer import Pitch, VerticalPitch, FontManager\n",
    "import seaborn as sns\n",
    "import matplotlib.pyplot as plt\n",
    "from matplotlib.patches import Arc\n",
    "from scipy.spatial import ConvexHull\n",
    "from highlight_text import fig_text"
   ]
  },
  {
   "cell_type": "markdown",
   "metadata": {},
   "source": [
    "# Scraping from whoscored"
   ]
  },
  {
   "cell_type": "code",
   "execution_count": 3,
   "metadata": {
    "ExecuteTime": {
     "end_time": "2021-09-23T22:16:52.680408Z",
     "start_time": "2021-09-23T22:16:42.777116Z"
    }
   },
   "outputs": [],
   "source": [
    "def whoscored():\n",
    "    driver = webdriver.Chrome(r'C:\\Users\\jose\\Documents\\Data Science\\Personal\\Soccer\\Football analytics\\chromedriver.exe')\n",
    "    website_URL=\"https://es.whoscored.com/Matches/1560152/Live/Espa%C3%B1a-LaLiga-2021-2022-Barcelona-Granada\"\n",
    "    driver.get(website_URL)\n",
    "    element=driver.find_element_by_xpath('//*[@id=\"layout-wrapper\"]/script[1]')\n",
    "    script_content=element.get_attribute('innerHTML')\n",
    "    script_ls=script_content.split(sep=\"  \")\n",
    "    script_ls=list(filter(None,script_ls))\n",
    "    script_ls=[name for name in script_ls if name.strip()]\n",
    "    dictstring=script_ls[2][17:-2]\n",
    "    matchdict=json.loads(dictstring)\n",
    "    matchdict[\"id\"]=script_ls[1][8:-2]\n",
    "    return matchdict\n",
    "    driver.close()\n",
    "data = whoscored()"
   ]
  },
  {
   "cell_type": "code",
   "execution_count": 4,
   "metadata": {
    "ExecuteTime": {
     "end_time": "2021-09-23T22:17:31.022373Z",
     "start_time": "2021-09-23T22:17:31.009382Z"
    }
   },
   "outputs": [
    {
     "data": {
      "text/plain": [
       "dict_keys(['playerIdNameDictionary', 'periodMinuteLimits', 'timeStamp', 'attendance', 'venueName', 'referee', 'weatherCode', 'elapsed', 'startTime', 'startDate', 'score', 'htScore', 'ftScore', 'etScore', 'pkScore', 'statusCode', 'periodCode', 'home', 'away', 'maxMinute', 'minuteExpanded', 'maxPeriod', 'expandedMinutes', 'expandedMaxMinute', 'periodEndMinutes', 'commonEvents', 'events', 'timeoutInSeconds', 'id'])"
      ]
     },
     "execution_count": 4,
     "metadata": {},
     "output_type": "execute_result"
    }
   ],
   "source": [
    "data.keys()"
   ]
  },
  {
   "cell_type": "markdown",
   "metadata": {},
   "source": [
    "# Data cleaning"
   ]
  },
  {
   "cell_type": "code",
   "execution_count": 5,
   "metadata": {
    "ExecuteTime": {
     "end_time": "2021-09-23T22:17:38.508913Z",
     "start_time": "2021-09-23T22:17:34.337722Z"
    }
   },
   "outputs": [],
   "source": [
    "events_df = pd.DataFrame(data['events'])\n",
    "ids = data['playerIdNameDictionary']\n",
    "\n",
    "# Keys from string to int\n",
    "player_ids = {int(old_key): val for old_key, val in ids.items()}\n",
    "\n",
    "#Replace player IDs\n",
    "team_ID = data['home']['teamId']\n",
    "team_name = data['home']['name']\n",
    "events_df['PlayerName'] = events_df[\"playerId\"].replace(player_ids)\n",
    "\n",
    "# Replace team name\n",
    "events_df['TeamName'] = events_df[\"teamId\"].replace({team_ID : team_name})\n",
    "\n",
    "# Replace the period\n",
    "events_df[\"period\"] = events_df[\"period\"].apply(pd.Series)[\"displayName\"].values\n",
    "\n",
    "# Replace type \n",
    "events_df['type'] = events_df[\"type\"].apply(pd.Series)[\"displayName\"].values\n",
    "\n",
    "# Replace the outcome\n",
    "events_df['outcomeType'] = events_df[\"outcomeType\"].apply(pd.Series)[\"displayName\"].values"
   ]
  },
  {
   "cell_type": "markdown",
   "metadata": {},
   "source": [
    "# Pitch adjusting"
   ]
  },
  {
   "cell_type": "code",
   "execution_count": 6,
   "metadata": {
    "ExecuteTime": {
     "end_time": "2021-09-23T22:17:38.734864Z",
     "start_time": "2021-09-23T22:17:38.701883Z"
    }
   },
   "outputs": [],
   "source": [
    "events_df['xx'] = (events_df['x'])*105/100\n",
    "events_df['yy'] = (events_df['y'])*68/100\n",
    "events_df['endxx'] = (events_df['endX'])*105/100\n",
    "events_df['endyy'] = (events_df['endY'])*68/100\n",
    "df = events_df"
   ]
  },
  {
   "cell_type": "markdown",
   "metadata": {},
   "source": [
    "# Pitch function"
   ]
  },
  {
   "cell_type": "code",
   "execution_count": 7,
   "metadata": {
    "ExecuteTime": {
     "end_time": "2021-09-23T22:17:39.624408Z",
     "start_time": "2021-09-23T22:17:39.577678Z"
    }
   },
   "outputs": [],
   "source": [
    "# Setting dimensions, colour, orientation of football pitch\n",
    "def football_pitch(x_min=0, x_max=105,\n",
    "               y_min=0, y_max=68,\n",
    "               pitch_color=\"#f0f0f0\",\n",
    "               line_color='black',\n",
    "               line_thickness=1.5,\n",
    "               point_size=20,\n",
    "               orientation=\"horizontal\",\n",
    "               aspect=\"full\",\n",
    "               axis='off',\n",
    "               ax=None\n",
    "               ):\n",
    "\n",
    "    if not ax:\n",
    "        raise TypeError(\"This function is intended to be used with an existing fig and ax in order to allow flexibility in plotting of various sizes and in subplots.\")\n",
    "\n",
    "\n",
    "    if orientation.lower().startswith(\"h\"):\n",
    "        first = 0\n",
    "        second = 1\n",
    "        arc_angle = 0\n",
    "\n",
    "        if aspect == \"half\":\n",
    "            ax.set_xlim(x_max / 2, x_max + 5)\n",
    "\n",
    "    elif orientation.lower().startswith(\"v\"):\n",
    "        first = 1\n",
    "        second = 0\n",
    "        arc_angle = 90\n",
    "\n",
    "        if aspect == \"half\":\n",
    "            ax.set_ylim(x_max / 2, x_max + 5)\n",
    "\n",
    "    \n",
    "    else:\n",
    "        raise NameError(\"You must choose one of horizontal or vertical\")\n",
    "    \n",
    "    ax.axis(axis)\n",
    "\n",
    "    rect = plt.Rectangle((x_min, y_min),\n",
    "                         x_max, y_max,\n",
    "                         facecolor=pitch_color,\n",
    "                         edgecolor=\"none\",\n",
    "                         zorder=-2)\n",
    "\n",
    "    ax.add_artist(rect)\n",
    "\n",
    "    x_conversion = x_max / 100\n",
    "    y_conversion = y_max / 100\n",
    "\n",
    "    pitch_x = [0,5.8,11.5,17,50,83,88.5,94.2,100] # x dimension markings\n",
    "    pitch_x = [x * x_conversion for x in pitch_x]\n",
    "\n",
    "    pitch_y = [0, 21.1, 36.6, 50, 63.2, 78.9, 100] # y dimension markings\n",
    "    pitch_y = [x * y_conversion for x in pitch_y]\n",
    "\n",
    "    goal_y = [45.2, 54.8] # goal posts\n",
    "    goal_y = [x * y_conversion for x in goal_y]\n",
    "\n",
    "    # side and goal lines\n",
    "    lx1 = [x_min, x_max, x_max, x_min, x_min]\n",
    "    ly1 = [y_min, y_min, y_max, y_max, y_min]\n",
    "\n",
    "    # outer box\n",
    "    lx2 = [x_max, pitch_x[5], pitch_x[5], x_max]\n",
    "    ly2 = [pitch_y[1], pitch_y[1], pitch_y[5], pitch_y[5]]\n",
    "\n",
    "    lx3 = [0, pitch_x[3], pitch_x[3], 0]\n",
    "    ly3 = [pitch_y[1], pitch_y[1], pitch_y[5], pitch_y[5]]\n",
    "\n",
    "    # goals\n",
    "    lx4 = [x_max, x_max+2, x_max+2, x_max]\n",
    "    ly4 = [goal_y[0], goal_y[0], goal_y[1], goal_y[1]]\n",
    "\n",
    "    lx5 = [0, -2, -2, 0]\n",
    "    ly5 = [goal_y[0], goal_y[0], goal_y[1], goal_y[1]]\n",
    "\n",
    "    # 6 yard box\n",
    "    lx6 = [x_max, pitch_x[7], pitch_x[7], x_max]\n",
    "    ly6 = [pitch_y[2],pitch_y[2], pitch_y[4], pitch_y[4]]\n",
    "\n",
    "    lx7 = [0, pitch_x[1], pitch_x[1], 0]\n",
    "    ly7 = [pitch_y[2],pitch_y[2], pitch_y[4], pitch_y[4]]\n",
    "\n",
    "\n",
    "    # Halfline, penalty spots, and kickoff spot\n",
    "    lx8 = [pitch_x[4], pitch_x[4]]\n",
    "    ly8 = [0, y_max]\n",
    "\n",
    "    lines = [\n",
    "        [lx1, ly1],\n",
    "        [lx2, ly2],\n",
    "        [lx3, ly3],\n",
    "        [lx4, ly4],\n",
    "        [lx5, ly5],\n",
    "        [lx6, ly6],\n",
    "        [lx7, ly7],\n",
    "        [lx8, ly8],\n",
    "        ]\n",
    "\n",
    "    points = [\n",
    "        [pitch_x[6], pitch_y[3]],\n",
    "        [pitch_x[2], pitch_y[3]],\n",
    "        [pitch_x[4], pitch_y[3]]\n",
    "        ]\n",
    "\n",
    "    circle_points = [pitch_x[4], pitch_y[3]]\n",
    "    arc_points1 = [pitch_x[6], pitch_y[3]]\n",
    "    arc_points2 = [pitch_x[2], pitch_y[3]]\n",
    "\n",
    "\n",
    "    for line in lines:\n",
    "        ax.plot(line[first], line[second],\n",
    "                color=line_color,\n",
    "                lw=line_thickness,\n",
    "                zorder=-1)\n",
    "\n",
    "    for point in points:\n",
    "        ax.scatter(point[first], point[second],\n",
    "                   color=line_color,\n",
    "                   s=point_size,\n",
    "                   zorder=-1)\n",
    "\n",
    "    circle = plt.Circle((circle_points[first], circle_points[second]),\n",
    "                        x_max * 0.088,\n",
    "                        lw=line_thickness,\n",
    "                        color=line_color,\n",
    "                        fill=False,\n",
    "                        zorder=-1)\n",
    "\n",
    "    ax.add_artist(circle)\n",
    "\n",
    "    arc1 = Arc((arc_points1[first], arc_points1[second]),\n",
    "               height=x_max * 0.088 * 2,\n",
    "               width=x_max * 0.088 * 2,\n",
    "               angle=arc_angle,\n",
    "               theta1=128.75,\n",
    "               theta2=231.25,\n",
    "               color=line_color,\n",
    "               lw=line_thickness,\n",
    "               zorder=-1)\n",
    "\n",
    "    ax.add_artist(arc1)\n",
    "\n",
    "    arc2 = Arc((arc_points2[first], arc_points2[second]),\n",
    "               height=x_max * 0.088 * 2,\n",
    "               width=x_max * 0.088 * 2,\n",
    "               angle=arc_angle,\n",
    "               theta1=308.75,\n",
    "               theta2=51.25,\n",
    "               color=line_color,\n",
    "               lw=line_thickness,\n",
    "               zorder=-1)\n",
    "\n",
    "    ax.add_artist(arc2)\n",
    "\n",
    "    ax.set_aspect(\"equal\")\n",
    "\n",
    "    return ax"
   ]
  },
  {
   "cell_type": "markdown",
   "metadata": {},
   "source": [
    "# Convex Hulls"
   ]
  },
  {
   "cell_type": "code",
   "execution_count": 9,
   "metadata": {
    "ExecuteTime": {
     "end_time": "2021-09-23T22:18:39.855198Z",
     "start_time": "2021-09-23T22:18:39.837212Z"
    }
   },
   "outputs": [],
   "source": [
    "df = df[df[\"type\"]==\"Pass\"]"
   ]
  },
  {
   "cell_type": "code",
   "execution_count": 8,
   "metadata": {
    "ExecuteTime": {
     "end_time": "2021-09-22T02:30:29.874708Z",
     "start_time": "2021-09-22T02:30:29.829905Z"
    }
   },
   "outputs": [
    {
     "data": {
      "text/plain": [
       "array(['Memphis Depay', 'Sergio Busquets', 'Frenkie de Jong',\n",
       "       'Gerard Piqué', 'Jordi Alba', 'Neto', 'Martin Braithwaite',\n",
       "       'Sergiño Dest', 'Eric García', 'Antoine Griezmann', 'Pedri',\n",
       "       'Emerson Royal', 'Sergi Roberto', 'Ronald Araujo', 'Nico González',\n",
       "       'Clément Lenglet'], dtype=object)"
      ]
     },
     "execution_count": 8,
     "metadata": {},
     "output_type": "execute_result"
    }
   ],
   "source": [
    "events_df = events_df[events_df[\"PlayerName\"].notna()]\n",
    "# Player names\n",
    "player_names = events_df[df[\"TeamName\"]==\"Barcelona\"][\"PlayerName\"].unique()\n",
    "player_names"
   ]
  },
  {
   "cell_type": "code",
   "execution_count": 11,
   "metadata": {
    "ExecuteTime": {
     "end_time": "2021-09-23T22:27:43.806393Z",
     "start_time": "2021-09-23T22:27:42.229849Z"
    }
   },
   "outputs": [
    {
     "data": {
      "image/png": "[encoded data removed]",
      "text/plain": [
       "<Figure size 864x864 with 12 Axes>"
      ]
     },
     "metadata": {},
     "output_type": "display_data"
    }
   ],
   "source": [
    "fig, axes = plt.subplots(3,4,figsize=(12,12))\n",
    "fig.set_facecolor('linen')\n",
    "axes.flat[-1].set_visible(False)\n",
    "\n",
    "pitch = Pitch(pitch_type='statsbomb', orientation='vertical',\n",
    "              pitch_color='linen', line_color='black', figsize=(13, 8),\n",
    "              constrained_layout=False, tight_layout=True)\n",
    "\n",
    "for i,ax in enumerate(fig.axes):\n",
    "    try:\n",
    "        ax.set_facecolor('#3b3b38')\n",
    "        pitch.draw(ax=ax)\n",
    "\n",
    "        df = df[(df.PlayerName == player_names[i])]\n",
    "        points = df[['yy','xx']].values\n",
    "        hull = ConvexHull(df[['xx','yy']])\n",
    "\n",
    "        for simplex in hull.simplices:\n",
    "            ax.plot(points[simplex, 0], points[simplex, 1], '#A50044',lw=3)\n",
    "            ax.fill(points[hull.vertices,0], points[hull.vertices,1], c='#dfa9a9', alpha=0.1)\n",
    "            ax.set_ylabel(ylabel=' ')\n",
    "\n",
    "\n",
    "        ax.set_title(label=player_names[i],c='black',va='center',ha='center',fontsize=18,fontfamily='Andale Mono')\n",
    "    except:\n",
    "        pass"
   ]
  },
  {
   "cell_type": "code",
   "execution_count": null,
   "metadata": {},
   "outputs": [],
   "source": []
  }
 ],
 "metadata": {
  "hide_input": false,
  "kernelspec": {
   "display_name": "Python 3",
   "language": "python",
   "name": "python3"
  },
  "language_info": {
   "codemirror_mode": {
    "name": "ipython",
    "version": 3
   },
   "file_extension": ".py",
   "mimetype": "text/x-python",
   "name": "python",
   "nbconvert_exporter": "python",
   "pygments_lexer": "ipython3",
   "version": "3.8.5"
  },
  "toc": {
   "base_numbering": 1,
   "nav_menu": {},
   "number_sections": true,
   "sideBar": true,
   "skip_h1_title": false,
   "title_cell": "Table of Contents",
   "title_sidebar": "Contents",
   "toc_cell": false,
   "toc_position": {},
   "toc_section_display": true,
   "toc_window_display": false
  },
  "varInspector": {
   "cols": {
    "lenName": 16,
    "lenType": 16,
    "lenVar": 40
   },
   "kernels_config": {
    "python": {
     "delete_cmd_postfix": "",
     "delete_cmd_prefix": "del ",
     "library": "var_list.py",
     "varRefreshCmd": "print(var_dic_list())"
    },
    "r": {
     "delete_cmd_postfix": ") ",
     "delete_cmd_prefix": "rm(",
     "library": "var_list.r",
     "varRefreshCmd": "cat(var_dic_list()) "
    }
   },
   "types_to_exclude": [
    "module",
    "function",
    "builtin_function_or_method",
    "instance",
    "_Feature"
   ],
   "window_display": false
  }
 },
 "nbformat": 4,
 "nbformat_minor": 4
}
